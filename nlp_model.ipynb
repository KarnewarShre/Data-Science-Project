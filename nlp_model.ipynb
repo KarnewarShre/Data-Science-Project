{
 "cells": [
  {
   "cell_type": "code",
   "execution_count": 3,
   "id": "480ffdd3",
   "metadata": {},
   "outputs": [],
   "source": [
    "import numpy as np\n",
    "import pandas as pd\n",
    "import nltk \n"
   ]
  },
  {
   "cell_type": "code",
   "execution_count": 15,
   "id": "5d0db738",
   "metadata": {},
   "outputs": [
    {
     "data": {
      "text/plain": [
       "['Unnamed: 0',\n",
       " 'name',\n",
       " 'rating',\n",
       " 'reviews',\n",
       " 'company_type',\n",
       " 'address',\n",
       " 'since',\n",
       " 'employee']"
      ]
     },
     "execution_count": 15,
     "metadata": {},
     "output_type": "execute_result"
    }
   ],
   "source": [
    "df=pd.read_csv('Final3.csv')\n",
    "loc_lst=list(df.columns)\n",
    "loc_lst"
   ]
  },
  {
   "cell_type": "code",
   "execution_count": 18,
   "id": "b6f5bf84",
   "metadata": {},
   "outputs": [],
   "source": [
    "df.drop(columns=\"Unnamed: 0\",inplace=True)"
   ]
  },
  {
   "cell_type": "code",
   "execution_count": 20,
   "id": "8f848d48",
   "metadata": {},
   "outputs": [
    {
     "data": {
      "text/html": [
       "<div>\n",
       "<style scoped>\n",
       "    .dataframe tbody tr th:only-of-type {\n",
       "        vertical-align: middle;\n",
       "    }\n",
       "\n",
       "    .dataframe tbody tr th {\n",
       "        vertical-align: top;\n",
       "    }\n",
       "\n",
       "    .dataframe thead th {\n",
       "        text-align: right;\n",
       "    }\n",
       "</style>\n",
       "<table border=\"1\" class=\"dataframe\">\n",
       "  <thead>\n",
       "    <tr style=\"text-align: right;\">\n",
       "      <th></th>\n",
       "      <th>name</th>\n",
       "      <th>rating</th>\n",
       "      <th>reviews</th>\n",
       "      <th>company_type</th>\n",
       "      <th>address</th>\n",
       "      <th>since</th>\n",
       "      <th>employee</th>\n",
       "    </tr>\n",
       "  </thead>\n",
       "  <tbody>\n",
       "    <tr>\n",
       "      <th>0</th>\n",
       "      <td>TCS</td>\n",
       "      <td>3.9</td>\n",
       "      <td>(49.3k Reviews)</td>\n",
       "      <td>Public</td>\n",
       "      <td>Mumbai,Maharashtra + 272 more</td>\n",
       "      <td>54 years old</td>\n",
       "      <td>1 Lakh+ Employees (India)</td>\n",
       "    </tr>\n",
       "    <tr>\n",
       "      <th>1</th>\n",
       "      <td>Accenture</td>\n",
       "      <td>4.1</td>\n",
       "      <td>(32.2k Reviews)</td>\n",
       "      <td>Public</td>\n",
       "      <td>Dublin + 141 more</td>\n",
       "      <td>33 years old</td>\n",
       "      <td>1 Lakh+ Employees (India)</td>\n",
       "    </tr>\n",
       "    <tr>\n",
       "      <th>2</th>\n",
       "      <td>Cognizant</td>\n",
       "      <td>3.9</td>\n",
       "      <td>(29.4k Reviews)</td>\n",
       "      <td>Private</td>\n",
       "      <td>Teaneck. New Jersey. + 97 more</td>\n",
       "      <td>28 years old</td>\n",
       "      <td>1 Lakh+ Employees (India)</td>\n",
       "    </tr>\n",
       "    <tr>\n",
       "      <th>3</th>\n",
       "      <td>ICICI Bank</td>\n",
       "      <td>4.0</td>\n",
       "      <td>(34.7k Reviews)</td>\n",
       "      <td>Public</td>\n",
       "      <td>Mumbai,Maharashtra + 1035 more</td>\n",
       "      <td>28 years old</td>\n",
       "      <td>1 Lakh+ Employees (India)</td>\n",
       "    </tr>\n",
       "    <tr>\n",
       "      <th>4</th>\n",
       "      <td>HDFC Bank</td>\n",
       "      <td>4.0</td>\n",
       "      <td>(39.6k Reviews)</td>\n",
       "      <td>Public</td>\n",
       "      <td>Mumbai,Maharashtra + 1206 more</td>\n",
       "      <td>28 years old</td>\n",
       "      <td>1 Lakh+ Employees (India)</td>\n",
       "    </tr>\n",
       "    <tr>\n",
       "      <th>...</th>\n",
       "      <td>...</td>\n",
       "      <td>...</td>\n",
       "      <td>...</td>\n",
       "      <td>...</td>\n",
       "      <td>...</td>\n",
       "      <td>...</td>\n",
       "      <td>...</td>\n",
       "    </tr>\n",
       "    <tr>\n",
       "      <th>295</th>\n",
       "      <td>Tata Motors</td>\n",
       "      <td>4.1</td>\n",
       "      <td>(12.4k Reviews)</td>\n",
       "      <td>Public</td>\n",
       "      <td>Pune,Maharashtra + 390 more</td>\n",
       "      <td>77 years old</td>\n",
       "      <td>10k-50k Employees (India)</td>\n",
       "    </tr>\n",
       "    <tr>\n",
       "      <th>296</th>\n",
       "      <td>WNS</td>\n",
       "      <td>3.7</td>\n",
       "      <td>(7k Reviews)</td>\n",
       "      <td>Private</td>\n",
       "      <td>Mumbai,Maharashtra + 22 more</td>\n",
       "      <td>26 years old</td>\n",
       "      <td>10k-50k Employees (India)</td>\n",
       "    </tr>\n",
       "    <tr>\n",
       "      <th>297</th>\n",
       "      <td>Mahindra &amp; Mahin...</td>\n",
       "      <td>3.9</td>\n",
       "      <td>(39.4k Reviews)</td>\n",
       "      <td>Public</td>\n",
       "      <td>Mumbai,Maharashtra + 408 more</td>\n",
       "      <td>77 years old</td>\n",
       "      <td>1 Lakh+ Employees (India)</td>\n",
       "    </tr>\n",
       "    <tr>\n",
       "      <th>298</th>\n",
       "      <td>IndusInd Bank</td>\n",
       "      <td>3.8</td>\n",
       "      <td>(6.8k Reviews)</td>\n",
       "      <td>Public</td>\n",
       "      <td>Gurgaon/Gurugram,Haryana + 553 more</td>\n",
       "      <td>28 years old</td>\n",
       "      <td>10k-50k Employees (India)</td>\n",
       "    </tr>\n",
       "    <tr>\n",
       "      <th>299</th>\n",
       "      <td>BYJU'S</td>\n",
       "      <td>3.5</td>\n",
       "      <td>(11.6k Reviews)</td>\n",
       "      <td>Private</td>\n",
       "      <td>Bangalore,Karnataka + 189 more</td>\n",
       "      <td>11 years old</td>\n",
       "      <td>1k-5k Employees (India)</td>\n",
       "    </tr>\n",
       "  </tbody>\n",
       "</table>\n",
       "<p>300 rows × 7 columns</p>\n",
       "</div>"
      ],
      "text/plain": [
       "                    name  rating          reviews company_type  \\\n",
       "0                    TCS     3.9  (49.3k Reviews)       Public   \n",
       "1              Accenture     4.1  (32.2k Reviews)       Public   \n",
       "2              Cognizant     3.9  (29.4k Reviews)      Private   \n",
       "3             ICICI Bank     4.0  (34.7k Reviews)       Public   \n",
       "4              HDFC Bank     4.0  (39.6k Reviews)       Public   \n",
       "..                   ...     ...              ...          ...   \n",
       "295          Tata Motors     4.1  (12.4k Reviews)       Public   \n",
       "296                  WNS     3.7     (7k Reviews)      Private   \n",
       "297  Mahindra & Mahin...     3.9  (39.4k Reviews)       Public   \n",
       "298        IndusInd Bank     3.8   (6.8k Reviews)       Public   \n",
       "299               BYJU'S     3.5  (11.6k Reviews)      Private   \n",
       "\n",
       "                                 address         since  \\\n",
       "0          Mumbai,Maharashtra + 272 more  54 years old   \n",
       "1                      Dublin + 141 more  33 years old   \n",
       "2         Teaneck. New Jersey. + 97 more  28 years old   \n",
       "3         Mumbai,Maharashtra + 1035 more  28 years old   \n",
       "4         Mumbai,Maharashtra + 1206 more  28 years old   \n",
       "..                                   ...           ...   \n",
       "295          Pune,Maharashtra + 390 more  77 years old   \n",
       "296         Mumbai,Maharashtra + 22 more  26 years old   \n",
       "297        Mumbai,Maharashtra + 408 more  77 years old   \n",
       "298  Gurgaon/Gurugram,Haryana + 553 more  28 years old   \n",
       "299       Bangalore,Karnataka + 189 more  11 years old   \n",
       "\n",
       "                      employee  \n",
       "0    1 Lakh+ Employees (India)  \n",
       "1    1 Lakh+ Employees (India)  \n",
       "2    1 Lakh+ Employees (India)  \n",
       "3    1 Lakh+ Employees (India)  \n",
       "4    1 Lakh+ Employees (India)  \n",
       "..                         ...  \n",
       "295  10k-50k Employees (India)  \n",
       "296  10k-50k Employees (India)  \n",
       "297  1 Lakh+ Employees (India)  \n",
       "298  10k-50k Employees (India)  \n",
       "299    1k-5k Employees (India)  \n",
       "\n",
       "[300 rows x 7 columns]"
      ]
     },
     "execution_count": 20,
     "metadata": {},
     "output_type": "execute_result"
    }
   ],
   "source": [
    "df"
   ]
  },
  {
   "cell_type": "code",
   "execution_count": 21,
   "id": "b1c495da",
   "metadata": {},
   "outputs": [],
   "source": [
    "import re\n",
    "from nltk.corpus import stopwords\n",
    "from nltk.stem import PorterStemmer\n",
    "ps=PorterStemmer()"
   ]
  },
  {
   "cell_type": "code",
   "execution_count": 38,
   "id": "1cabb1fa",
   "metadata": {},
   "outputs": [],
   "source": [
    "corpus=[]\n",
    "for i in range(len(df)):\n",
    "    rp=re.sub('[^a-zA-Z]',\" \",df['name'][i])\n",
    "    rp=rp.lower()\n",
    "    rp=rp.split()\n",
    "    rp=[ps.stem(word) for word in rp if not word in set(stopwords.words('english'))]\n",
    "    rp=\" \".join(rp)\n",
    "    corpus.append(rp)"
   ]
  },
  {
   "cell_type": "code",
   "execution_count": 39,
   "id": "45f86f34",
   "metadata": {},
   "outputs": [],
   "source": [
    "from sklearn.feature_extraction.text import CountVectorizer\n",
    "cv=CountVectorizer()\n",
    "X=cv.fit_transform(corpus).toarray()"
   ]
  },
  {
   "cell_type": "code",
   "execution_count": 24,
   "id": "5c703fa2",
   "metadata": {},
   "outputs": [],
   "source": [
    "y=pd.get_dummies(df['address'],drop_first=True)"
   ]
  },
  {
   "cell_type": "code",
   "execution_count": null,
   "id": "279bf62b",
   "metadata": {},
   "outputs": [],
   "source": []
  },
  {
   "cell_type": "code",
   "execution_count": 28,
   "id": "2ac22a8c",
   "metadata": {},
   "outputs": [],
   "source": [
    "from sklearn.model_selection import train_test_split\n",
    "X_train,X_test,y_train,y_test=train_test_split(X,y,test_size=0.3,random_state=0)"
   ]
  },
  {
   "cell_type": "code",
   "execution_count": 37,
   "id": "1c740d62",
   "metadata": {},
   "outputs": [],
   "source": [
    "from sklearn.preprocessing import StandardScaler\n",
    "sc=StandardScaler()\n",
    "X_train=sc.fit_transform(X_train)\n",
    "X_test=sc.transform(X_test)"
   ]
  },
  {
   "cell_type": "code",
   "execution_count": 55,
   "id": "83c1a127",
   "metadata": {},
   "outputs": [
    {
     "data": {
      "text/plain": [
       "KNeighborsClassifier(n_neighbors=10)"
      ]
     },
     "execution_count": 55,
     "metadata": {},
     "output_type": "execute_result"
    }
   ],
   "source": [
    "from sklearn.neighbors import KNeighborsClassifier\n",
    "knn_model=KNeighborsClassifier(n_neighbors=10)\n",
    "knn_model.fit(X_train,y_train)"
   ]
  },
  {
   "cell_type": "code",
   "execution_count": 56,
   "id": "27e52f63",
   "metadata": {},
   "outputs": [],
   "source": [
    "y_pred=knn_model.predict(X_test)"
   ]
  },
  {
   "cell_type": "code",
   "execution_count": 57,
   "id": "83d7a4bb",
   "metadata": {},
   "outputs": [
    {
     "data": {
      "text/plain": [
       "0.7"
      ]
     },
     "execution_count": 57,
     "metadata": {},
     "output_type": "execute_result"
    }
   ],
   "source": [
    "from sklearn.metrics import accuracy_score\n",
    "accuracy_score(y_test,y_pred)"
   ]
  },
  {
   "cell_type": "code",
   "execution_count": null,
   "id": "873f8896",
   "metadata": {},
   "outputs": [],
   "source": []
  },
  {
   "cell_type": "code",
   "execution_count": null,
   "id": "71b8a8ce",
   "metadata": {},
   "outputs": [],
   "source": []
  }
 ],
 "metadata": {
  "kernelspec": {
   "display_name": "Python 3 (ipykernel)",
   "language": "python",
   "name": "python3"
  },
  "language_info": {
   "codemirror_mode": {
    "name": "ipython",
    "version": 3
   },
   "file_extension": ".py",
   "mimetype": "text/x-python",
   "name": "python",
   "nbconvert_exporter": "python",
   "pygments_lexer": "ipython3",
   "version": "3.9.12"
  }
 },
 "nbformat": 4,
 "nbformat_minor": 5
}
